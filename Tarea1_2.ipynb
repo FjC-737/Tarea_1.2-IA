{
  "nbformat": 4,
  "nbformat_minor": 0,
  "metadata": {
    "colab": {
      "provenance": [],
      "authorship_tag": "ABX9TyNHb3K+NdI300sMKt/Uj83w",
      "include_colab_link": true
    },
    "kernelspec": {
      "name": "python3",
      "display_name": "Python 3"
    },
    "language_info": {
      "name": "python"
    }
  },
  "cells": [
    {
      "cell_type": "markdown",
      "metadata": {
        "id": "view-in-github",
        "colab_type": "text"
      },
      "source": [
        "<a href=\"https://colab.research.google.com/github/FjC-737/Tarea_1.2-IA/blob/main/Tarea1_2.ipynb\" target=\"_parent\"><img src=\"https://colab.research.google.com/assets/colab-badge.svg\" alt=\"Open In Colab\"/></a>"
      ]
    },
    {
      "cell_type": "code",
      "execution_count": 6,
      "metadata": {
        "colab": {
          "base_uri": "https://localhost:8080/"
        },
        "id": "gp-rzQLHLsEn",
        "outputId": "57bb2979-9ff2-41e3-a390-a48a0d6ddef7"
      },
      "outputs": [
        {
          "output_type": "stream",
          "name": "stdout",
          "text": [
            "Index(['Producto', 'Cantidad', 'Precio_Unitario'], dtype='object')\n",
            "Cantidad total de productos vendidos por categoría:\n",
            "      Producto  Cantidad\n",
            "0  Auriculares        53\n",
            "1    Impresora        65\n",
            "2       Laptop        49\n",
            "3      Monitor       113\n",
            "4        Mouse        55\n",
            "5  Silla Gamer        77\n",
            "6      Teclado        73\n",
            "7       Webcam        56\n"
          ]
        }
      ],
      "source": [
        "import pandas as pd\n",
        "\n",
        "df_ventas = pd.read_csv('ventas.csv')\n",
        "\n",
        "print(df_ventas.columns)\n",
        "\n",
        "ventas_por_categoria = df_ventas.groupby('Producto')['Cantidad'].sum().reset_index()\n",
        "print(\"Cantidad total de productos vendidos por categoría:\")\n",
        "print(ventas_por_categoria)\n",
        "\n",
        "\n"
      ]
    },
    {
      "cell_type": "code",
      "source": [
        "df_ventas['TotalVentaProducto'] = df_ventas['Cantidad'] * df_ventas['Precio_Unitario']\n",
        "\n",
        "ventas_totales_por_producto = df_ventas.groupby('Producto')['TotalVentaProducto'].sum().reset_index()\n",
        "\n",
        "producto_mayor_venta = ventas_totales_por_producto.loc[ventas_totales_por_producto['TotalVentaProducto'].idxmax()]\n",
        "print(\"\\nProducto con el mayor total de ventas:\")\n",
        "print(producto_mayor_venta)\n",
        "\n",
        "\n",
        "precio_promedio = df_ventas.groupby('Producto')['Precio_Unitario'].mean()\n",
        "print(\"\\nPrecio promedio de los productos vendidos:\")\n",
        "precio_promedio\n"
      ],
      "metadata": {
        "colab": {
          "base_uri": "https://localhost:8080/",
          "height": 488
        },
        "id": "rY3OcZNeN369",
        "outputId": "8ca60b30-dfaa-4f2a-f9b4-77f39d68eaa5"
      },
      "execution_count": 9,
      "outputs": [
        {
          "output_type": "stream",
          "name": "stdout",
          "text": [
            "\n",
            "Producto con el mayor total de ventas:\n",
            "Producto              Monitor\n",
            "TotalVentaProducto      79008\n",
            "Name: 3, dtype: object\n",
            "\n",
            "Precio promedio de los productos vendidos:\n"
          ]
        },
        {
          "output_type": "execute_result",
          "data": {
            "text/plain": [
              "Producto\n",
              "Auriculares    437.500000\n",
              "Impresora      490.000000\n",
              "Laptop         771.333333\n",
              "Monitor        669.500000\n",
              "Mouse          354.000000\n",
              "Silla Gamer    480.500000\n",
              "Teclado        530.285714\n",
              "Webcam         340.000000\n",
              "Name: Precio_Unitario, dtype: float64"
            ],
            "text/html": [
              "<div>\n",
              "<style scoped>\n",
              "    .dataframe tbody tr th:only-of-type {\n",
              "        vertical-align: middle;\n",
              "    }\n",
              "\n",
              "    .dataframe tbody tr th {\n",
              "        vertical-align: top;\n",
              "    }\n",
              "\n",
              "    .dataframe thead th {\n",
              "        text-align: right;\n",
              "    }\n",
              "</style>\n",
              "<table border=\"1\" class=\"dataframe\">\n",
              "  <thead>\n",
              "    <tr style=\"text-align: right;\">\n",
              "      <th></th>\n",
              "      <th>Precio_Unitario</th>\n",
              "    </tr>\n",
              "    <tr>\n",
              "      <th>Producto</th>\n",
              "      <th></th>\n",
              "    </tr>\n",
              "  </thead>\n",
              "  <tbody>\n",
              "    <tr>\n",
              "      <th>Auriculares</th>\n",
              "      <td>437.500000</td>\n",
              "    </tr>\n",
              "    <tr>\n",
              "      <th>Impresora</th>\n",
              "      <td>490.000000</td>\n",
              "    </tr>\n",
              "    <tr>\n",
              "      <th>Laptop</th>\n",
              "      <td>771.333333</td>\n",
              "    </tr>\n",
              "    <tr>\n",
              "      <th>Monitor</th>\n",
              "      <td>669.500000</td>\n",
              "    </tr>\n",
              "    <tr>\n",
              "      <th>Mouse</th>\n",
              "      <td>354.000000</td>\n",
              "    </tr>\n",
              "    <tr>\n",
              "      <th>Silla Gamer</th>\n",
              "      <td>480.500000</td>\n",
              "    </tr>\n",
              "    <tr>\n",
              "      <th>Teclado</th>\n",
              "      <td>530.285714</td>\n",
              "    </tr>\n",
              "    <tr>\n",
              "      <th>Webcam</th>\n",
              "      <td>340.000000</td>\n",
              "    </tr>\n",
              "  </tbody>\n",
              "</table>\n",
              "</div><br><label><b>dtype:</b> float64</label>"
            ]
          },
          "metadata": {},
          "execution_count": 9
        }
      ]
    },
    {
      "cell_type": "markdown",
      "source": [
        "Analisis del Clima"
      ],
      "metadata": {
        "id": "UoDuyYKyPdml"
      }
    },
    {
      "cell_type": "code",
      "source": [
        "df_clima = pd.read_csv('clima.csv')\n",
        "print(df_clima.columns)\n",
        "\n",
        "\n",
        "temp_prom_ciudad= df_clima.groupby('Ciudad')['Temperatura'].mean().reset_index()\n",
        "print(\"Temperatura promedio por ciudad:\")\n",
        "print(temp_prom_ciudad)"
      ],
      "metadata": {
        "colab": {
          "base_uri": "https://localhost:8080/"
        },
        "id": "7_z6kBccPcgK",
        "outputId": "a54ebbec-7452-479b-effd-0708f21d4278"
      },
      "execution_count": 11,
      "outputs": [
        {
          "output_type": "stream",
          "name": "stdout",
          "text": [
            "Index(['Fecha', 'Ciudad', 'Temperatura'], dtype='object')\n",
            "Temperatura promedio por ciudad:\n",
            "             Ciudad  Temperatura\n",
            "0            Bogotá    14.650794\n",
            "1      Buenos Aires    15.226571\n",
            "2  Ciudad de México    17.250833\n",
            "3            Madrid    13.870000\n",
            "4          Santiago    13.993718\n"
          ]
        }
      ]
    },
    {
      "cell_type": "code",
      "source": [
        "temp_max_ciudad = df_clima['Temperatura'].max()\n",
        "print(\"Registro con la temperatura más alta:\")\n",
        "print(temp_max_ciudad)\n",
        "\n",
        "temp_min_ciudad = df_clima['Temperatura'].min()\n",
        "print(\"Registro con la temperatura más baja:\")\n",
        "print(temp_min_ciudad)"
      ],
      "metadata": {
        "colab": {
          "base_uri": "https://localhost:8080/"
        },
        "id": "21v78WnvQFkl",
        "outputId": "bce6dde2-b1ed-4820-fdc0-c3ab0c65c1c3"
      },
      "execution_count": 14,
      "outputs": [
        {
          "output_type": "stream",
          "name": "stdout",
          "text": [
            "Registro con la temperatura más alta:\n",
            "34.62\n",
            "Registro con la temperatura más baja:\n",
            "-4.8\n"
          ]
        }
      ]
    },
    {
      "cell_type": "code",
      "source": [
        "indice_max = df_clima['Temperatura'].idxmax()\n",
        "ciudad_max = df_clima.loc[indice_max, 'Ciudad']\n",
        "temp_max = df_clima.loc[indice_max, 'Temperatura']\n",
        "\n",
        "\n",
        "indice_min = df_clima['Temperatura'].idxmin()\n",
        "ciudad_min = df_clima.loc[indice_min, 'Ciudad']\n",
        "temp_min = df_clima.loc[indice_min, 'Temperatura']\n",
        "\n",
        "print(f\"La ciudad con la temperatura más alta es {ciudad_max} con {temp_max}\")\n",
        "print(f\"La ciudad con la temperatura más baja es {ciudad_min} con {temp_min}\")\n",
        "\n",
        "masde30= df_clima['Temperatura']>30\n",
        "\n",
        "cant= masde30.sum()\n",
        "\n",
        "print(cant)\n",
        "\n",
        "conteo = df_clima.groupby('Ciudad')['Fecha'].count()\n",
        "print(conteo.sum())\n"
      ],
      "metadata": {
        "colab": {
          "base_uri": "https://localhost:8080/"
        },
        "id": "x_tOOsioRUfr",
        "outputId": "2d131792-ed7c-4e0c-b43d-f8adf0e646c9"
      },
      "execution_count": 23,
      "outputs": [
        {
          "output_type": "stream",
          "name": "stdout",
          "text": [
            "La ciudad con la temperatura más alta es Madrid con 34.62\n",
            "La ciudad con la temperatura más baja es Madrid con -4.8\n",
            "50\n",
            "365\n"
          ]
        }
      ]
    }
  ]
}